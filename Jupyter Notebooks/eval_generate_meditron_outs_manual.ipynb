{
 "cells": [
  {
   "cell_type": "code",
   "execution_count": null,
   "id": "343dc1be-f42f-4a02-a1b7-cc8aa2ae3ba8",
   "metadata": {},
   "outputs": [],
   "source": [
    "import os\n",
    "hf_token = \"HUGGINGFACE TOKEN HERE\"\n",
    "os.environ[\"HUGGINGFACEHUB_API_TOKEN\"]=hf_token\n",
    "os.environ[\"HF_TOKEN\"]=hf_token\n",
    "os.environ['HF_HOME'] = 'YOUR_HOME_DIR/.cache/huggingface/'\n",
    "os.environ['TRANSFOMERS_CACHE'] = 'YOUR_HOME_DIR/.cache/huggingface/'\n",
    "import transformers"
   ]
  },
  {
   "cell_type": "code",
   "execution_count": null,
   "id": "fa5e8006-b418-4a71-9455-a258f859c900",
   "metadata": {},
   "outputs": [],
   "source": [
    "import os\n",
    "from pathlib import Path\n",
    "from tempfile import mkdtemp\n",
    "from warnings import filterwarnings\n",
    "from transformers import BitsAndBytesConfig\n",
    "from llama_index.embeddings.huggingface import HuggingFaceEmbedding\n",
    "import torch\n",
    "from llama_index.core import Settings\n",
    "from transformers import AutoModelForCausalLM, AutoTokenizer, GenerationConfig\n",
    "from llama_index.llms.huggingface import HuggingFaceLLM\n",
    "from peft import PeftModel\n",
    "\n",
    "EMBED_MODEL = HuggingFaceEmbedding(model_name=\"abhinand/MedEmbed-large-v0.1\")\n",
    "model_id = \"epfl-llm/meditron-7b\"\n",
    "\n",
    "model = AutoModelForCausalLM.from_pretrained(model_id,\n",
    "    device_map=\"auto\",\n",
    "    token=hf_token,\n",
    "    torch_dtype=torch.float16,\n",
    ")\n",
    "\n",
    "#GEN_MODEL = HuggingFaceLLM(model=model,tokenizer_name=model_id,\n",
    "#    device_map=\"auto\",\n",
    "#    generate_kwargs={\"temperature\": 0.7, \"top_k\": 50, \"top_p\": 0.95},\n",
    "#)\n",
    "\n",
    "tokenizer = AutoTokenizer.from_pretrained(model_id, token=hf_token)\n",
    "\n",
    "Settings.tokenzier = tokenizer\n",
    "#Settings.llm = model\n",
    "\n",
    "embed_dim = len(EMBED_MODEL.get_text_embedding(\"hi\"))\n",
    "print(\"Embed dim:\", embed_dim)"
   ]
  },
  {
   "cell_type": "code",
   "execution_count": null,
   "id": "56eb354e-496f-41de-9d80-81fe3dc6029b",
   "metadata": {},
   "outputs": [],
   "source": [
    "from pyarrow.parquet import ParquetDataset\n",
    "import time\n",
    "dataset = ParquetDataset(f\"YOUR_HOME_DIR/datasets/deepseek_COT_raft/val.parquet\")\n",
    "pds = dataset.read().to_pandas()"
   ]
  },
  {
   "cell_type": "code",
   "execution_count": null,
   "id": "66bf88d1-021f-45c2-b792-b88da9d704a6",
   "metadata": {},
   "outputs": [],
   "source": [
    "for idx, row in pds.iterrows():\n",
    "    e = row.to_dict()\n",
    "    query = e[\"input\"]\n",
    "#    input_text = tokenizer.apply_chat_template([{\"role\": \"user\", \"content\": query}], tokenize=False)\n",
    "    inputs = tokenizer(query, return_tensors=\"pt\")\n",
    "    num_tokens = inputs[\"input_ids\"].shape[1]\n",
    "    print(\"num_tokens\", num_tokens)\n",
    "    inputs.to(\"cuda\")\n",
    "    output = model.generate(**inputs, max_new_tokens=4096)\n",
    "    \n",
    "    # Decode and print result\n",
    "    output = tokenizer.decode(output[0], skip_special_tokens=True)\n",
    "    print(output)"
   ]
  },
  {
   "cell_type": "code",
   "execution_count": null,
   "id": "8af8a115-7cb2-42d2-a276-38dff339e87e",
   "metadata": {},
   "outputs": [],
   "source": []
  }
 ],
 "metadata": {
  "kernelspec": {
   "display_name": "Python 3 (ipykernel)",
   "language": "python",
   "name": "python3"
  },
  "language_info": {
   "codemirror_mode": {
    "name": "ipython",
    "version": 3
   },
   "file_extension": ".py",
   "mimetype": "text/x-python",
   "name": "python",
   "nbconvert_exporter": "python",
   "pygments_lexer": "ipython3",
   "version": "3.11.6"
  }
 },
 "nbformat": 4,
 "nbformat_minor": 5
}
